{
 "cells": [
  {
   "cell_type": "code",
   "execution_count": 39,
   "id": "initial_id",
   "metadata": {
    "collapsed": true,
    "ExecuteTime": {
     "end_time": "2024-01-08T10:30:32.993981500Z",
     "start_time": "2024-01-08T10:30:32.977739600Z"
    }
   },
   "outputs": [],
   "source": [
    "import spacy"
   ]
  },
  {
   "cell_type": "code",
   "execution_count": 40,
   "outputs": [],
   "source": [
    "nlp = spacy.load('uk_core_news_lg')"
   ],
   "metadata": {
    "collapsed": false,
    "ExecuteTime": {
     "end_time": "2024-01-08T10:30:36.261003300Z",
     "start_time": "2024-01-08T10:30:33.336098900Z"
    }
   },
   "id": "c4afaa954bc92cfb"
  },
  {
   "cell_type": "code",
   "execution_count": null,
   "outputs": [],
   "source": [],
   "metadata": {
    "collapsed": false
   },
   "id": "f392699234b63bbf"
  },
  {
   "cell_type": "code",
   "execution_count": 49,
   "outputs": [],
   "source": [
    "with open(\"../datasets/text-ukrainian-file.txt\", \"r\", encoding=\"utf-8\") as file:\n",
    "    text = file.read()"
   ],
   "metadata": {
    "collapsed": false,
    "ExecuteTime": {
     "end_time": "2024-01-08T10:34:09.786743700Z",
     "start_time": "2024-01-08T10:34:09.761368300Z"
    }
   },
   "id": "9b569e214921a193"
  },
  {
   "cell_type": "code",
   "execution_count": 50,
   "outputs": [],
   "source": [
    "doc = nlp(text)"
   ],
   "metadata": {
    "collapsed": false,
    "ExecuteTime": {
     "end_time": "2024-01-08T10:34:10.740918400Z",
     "start_time": "2024-01-08T10:34:10.503729800Z"
    }
   },
   "id": "b0af507663f967f2"
  },
  {
   "cell_type": "code",
   "execution_count": 57,
   "outputs": [
    {
     "name": "stdout",
     "output_type": "stream",
     "text": [
      "Георгій георгій\n",
      "Мазурашу мазурашу\n",
      "Георгій георгій\n",
      "Мазурашу мазурашу\n"
     ]
    }
   ],
   "source": [
    "for token in doc:\n",
    "    if token.ent_type_ == \"PER\":\n",
    "        print(token.text, token.lemma_)"
   ],
   "metadata": {
    "collapsed": false,
    "ExecuteTime": {
     "end_time": "2024-01-08T10:36:13.729746400Z",
     "start_time": "2024-01-08T10:36:13.698223900Z"
    }
   },
   "id": "db1e10682893f736"
  },
  {
   "cell_type": "code",
   "execution_count": 51,
   "outputs": [],
   "source": [],
   "metadata": {
    "collapsed": false,
    "ExecuteTime": {
     "end_time": "2024-01-08T10:34:17.520350100Z",
     "start_time": "2024-01-08T10:34:17.511015500Z"
    }
   },
   "id": "39988473f5e07cfe"
  }
 ],
 "metadata": {
  "kernelspec": {
   "display_name": "Python 3",
   "language": "python",
   "name": "python3"
  },
  "language_info": {
   "codemirror_mode": {
    "name": "ipython",
    "version": 2
   },
   "file_extension": ".py",
   "mimetype": "text/x-python",
   "name": "python",
   "nbconvert_exporter": "python",
   "pygments_lexer": "ipython2",
   "version": "2.7.6"
  }
 },
 "nbformat": 4,
 "nbformat_minor": 5
}
