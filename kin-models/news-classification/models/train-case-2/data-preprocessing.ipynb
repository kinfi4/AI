{
 "cells": [
  {
   "cell_type": "code",
   "execution_count": 560,
   "id": "initial_id",
   "metadata": {
    "collapsed": true,
    "ExecuteTime": {
     "end_time": "2024-03-26T13:11:09.521618Z",
     "start_time": "2024-03-26T13:11:09.508570Z"
    }
   },
   "outputs": [],
   "source": [
    "import re\n",
    "import os\n",
    "\n",
    "import pandas as pd"
   ]
  },
  {
   "cell_type": "code",
   "outputs": [],
   "source": [
    "directory_path = '../../data/training-data/train-case-2/labeled/'\n",
    "\n",
    "dataframes = []\n",
    "\n",
    "for filename in os.listdir(directory_path):\n",
    "    if filename.endswith('.csv'):\n",
    "        df = pd.read_csv(os.path.join(directory_path, filename))\n",
    "        dataframes.append(df)\n",
    "\n",
    "combined_df = pd.concat(dataframes, ignore_index=True)"
   ],
   "metadata": {
    "collapsed": false,
    "ExecuteTime": {
     "end_time": "2024-03-26T13:11:10.196282Z",
     "start_time": "2024-03-26T13:11:10.021161Z"
    }
   },
   "id": "e7bf031d2dcdbb8f",
   "execution_count": 561
  },
  {
   "cell_type": "code",
   "outputs": [],
   "source": [
    "df = combined_df"
   ],
   "metadata": {
    "collapsed": false,
    "ExecuteTime": {
     "end_time": "2024-03-26T13:11:10.211796Z",
     "start_time": "2024-03-26T13:11:10.205278Z"
    }
   },
   "id": "838e0f6d2c0d8685",
   "execution_count": 562
  },
  {
   "cell_type": "code",
   "outputs": [],
   "source": [
    "df.columns = [\"channel\", \"txt\", \"date\", \"category\"]"
   ],
   "metadata": {
    "collapsed": false,
    "ExecuteTime": {
     "end_time": "2024-03-26T13:11:10.227829Z",
     "start_time": "2024-03-26T13:11:10.221827Z"
    }
   },
   "id": "de0c465722d271ee",
   "execution_count": 563
  },
  {
   "cell_type": "code",
   "outputs": [],
   "source": [
    "df = df.dropna().copy()"
   ],
   "metadata": {
    "collapsed": false,
    "ExecuteTime": {
     "end_time": "2024-03-26T13:11:10.291386Z",
     "start_time": "2024-03-26T13:11:10.272383Z"
    }
   },
   "id": "96bbff5b8164b7d3",
   "execution_count": 564
  },
  {
   "cell_type": "code",
   "outputs": [
    {
     "data": {
      "text/plain": "                              channel  \\\n0  Всевидящее ОКО 🇺🇦 | Новини Україна   \n1  Всевидящее ОКО 🇺🇦 | Новини Україна   \n2  Всевидящее ОКО 🇺🇦 | Новини Україна   \n3  Всевидящее ОКО 🇺🇦 | Новини Україна   \n4  Всевидящее ОКО 🇺🇦 | Новини Україна   \n\n                                                 txt        date    category  \n0  **Сегодня отмечается международная неделя Клоу...  2023-08-01       Other  \n1  **Бойцы ВС РФ прямо сейчас отражают атаку бесп...  2023-08-04      Crisis  \n2  Історія з офісами телефонних шахраїв заграла я...  2023-08-09  Corruption  \n3  **Самый популярный блогер в мире MrBeast выпус...  2023-08-19   Political  \n4  **🔥**** Точно в цель: впечатляющая эффективнос...  2023-08-26      Crisis  ",
      "text/html": "<div>\n<style scoped>\n    .dataframe tbody tr th:only-of-type {\n        vertical-align: middle;\n    }\n\n    .dataframe tbody tr th {\n        vertical-align: top;\n    }\n\n    .dataframe thead th {\n        text-align: right;\n    }\n</style>\n<table border=\"1\" class=\"dataframe\">\n  <thead>\n    <tr style=\"text-align: right;\">\n      <th></th>\n      <th>channel</th>\n      <th>txt</th>\n      <th>date</th>\n      <th>category</th>\n    </tr>\n  </thead>\n  <tbody>\n    <tr>\n      <th>0</th>\n      <td>Всевидящее ОКО 🇺🇦 | Новини Україна</td>\n      <td>**Сегодня отмечается международная неделя Клоу...</td>\n      <td>2023-08-01</td>\n      <td>Other</td>\n    </tr>\n    <tr>\n      <th>1</th>\n      <td>Всевидящее ОКО 🇺🇦 | Новини Україна</td>\n      <td>**Бойцы ВС РФ прямо сейчас отражают атаку бесп...</td>\n      <td>2023-08-04</td>\n      <td>Crisis</td>\n    </tr>\n    <tr>\n      <th>2</th>\n      <td>Всевидящее ОКО 🇺🇦 | Новини Україна</td>\n      <td>Історія з офісами телефонних шахраїв заграла я...</td>\n      <td>2023-08-09</td>\n      <td>Corruption</td>\n    </tr>\n    <tr>\n      <th>3</th>\n      <td>Всевидящее ОКО 🇺🇦 | Новини Україна</td>\n      <td>**Самый популярный блогер в мире MrBeast выпус...</td>\n      <td>2023-08-19</td>\n      <td>Political</td>\n    </tr>\n    <tr>\n      <th>4</th>\n      <td>Всевидящее ОКО 🇺🇦 | Новини Україна</td>\n      <td>**🔥**** Точно в цель: впечатляющая эффективнос...</td>\n      <td>2023-08-26</td>\n      <td>Crisis</td>\n    </tr>\n  </tbody>\n</table>\n</div>"
     },
     "execution_count": 565,
     "metadata": {},
     "output_type": "execute_result"
    }
   ],
   "source": [
    "df.head()"
   ],
   "metadata": {
    "collapsed": false,
    "ExecuteTime": {
     "end_time": "2024-03-26T13:11:10.458624Z",
     "start_time": "2024-03-26T13:11:10.422620Z"
    }
   },
   "id": "2efb507cacc175a",
   "execution_count": 565
  },
  {
   "cell_type": "code",
   "outputs": [],
   "source": [
    "df[\"category\"] = df[\"category\"].replace(\"Shelling\", \"Crisis\")"
   ],
   "metadata": {
    "collapsed": false,
    "ExecuteTime": {
     "end_time": "2024-03-26T13:11:10.655535Z",
     "start_time": "2024-03-26T13:11:10.641533Z"
    }
   },
   "id": "5754888430ee8283",
   "execution_count": 566
  },
  {
   "cell_type": "code",
   "outputs": [
    {
     "data": {
      "text/plain": "(0, 4)"
     },
     "execution_count": 567,
     "metadata": {},
     "output_type": "execute_result"
    }
   ],
   "source": [
    "df[df[\"category\"] == \"Shelling\"].shape"
   ],
   "metadata": {
    "collapsed": false,
    "ExecuteTime": {
     "end_time": "2024-03-26T13:11:10.703092Z",
     "start_time": "2024-03-26T13:11:10.679046Z"
    }
   },
   "id": "9ab2e2cab46a0b76",
   "execution_count": 567
  },
  {
   "cell_type": "code",
   "outputs": [],
   "source": [
    "df['txt'] = df['txt'].replace('\\*\\*|__|~~', '', regex=True)\n",
    "df['txt'] = df['txt'].replace(r'[\"“”«»„\"]\\s*[\"“”«»„\"]', '', regex=True)\n",
    "df['txt'] = df['txt'].replace('\"\"', '')"
   ],
   "metadata": {
    "collapsed": false,
    "ExecuteTime": {
     "end_time": "2024-03-26T13:11:10.862784Z",
     "start_time": "2024-03-26T13:11:10.785781Z"
    }
   },
   "id": "b2b38e0738f2313d",
   "execution_count": 568
  },
  {
   "cell_type": "code",
   "outputs": [],
   "source": [
    "df['txt'] = df['txt'].replace(\n",
    "    '(http|ftp|https):\\/\\/([\\w_-]+(?:(?:\\.[\\w_-]+)+))([\\w.,@?^=%&:\\/~+#-]*[\\w@?^=%&\\/~+#-])',\n",
    "    ' ',\n",
    "    regex=True,\n",
    ")"
   ],
   "metadata": {
    "collapsed": false,
    "ExecuteTime": {
     "end_time": "2024-03-26T13:11:11.000901Z",
     "start_time": "2024-03-26T13:11:10.929818Z"
    }
   },
   "id": "cfd3975fc9fe1751",
   "execution_count": 569
  },
  {
   "cell_type": "code",
   "outputs": [],
   "source": [
    "df['txt'] = df['txt'].replace(r'\\n|\\r|\\t', ' ', regex=True)"
   ],
   "metadata": {
    "collapsed": false,
    "ExecuteTime": {
     "end_time": "2024-03-26T13:11:11.114151Z",
     "start_time": "2024-03-26T13:11:11.052988Z"
    }
   },
   "id": "97a63d6304854bda",
   "execution_count": 570
  },
  {
   "cell_type": "code",
   "outputs": [],
   "source": [
    "df['txt'] = df['txt'].replace(r'\\[|\\]', '', regex=True)"
   ],
   "metadata": {
    "collapsed": false,
    "ExecuteTime": {
     "end_time": "2024-03-26T13:11:11.188793Z",
     "start_time": "2024-03-26T13:11:11.130715Z"
    }
   },
   "id": "3cc0bbc657fefc15",
   "execution_count": 571
  },
  {
   "cell_type": "code",
   "outputs": [],
   "source": [
    "words_to_remove = [\n",
    "    \"Покупаем контент\", \"ПОДПИСАТЬСЯ\", \"𝔼ℂ𝕆ℕ𝕆𝕄𝕀𝕂𝔸\", \"Подпишись — RT на русском\", \"Подпишись на канал «Специально для RT»\",\n",
    "    \"підписатися\", \"Подписаться на канал УНИАН\", \"Купуємо контент\"\n",
    "]"
   ],
   "metadata": {
    "collapsed": false,
    "ExecuteTime": {
     "end_time": "2024-03-26T13:11:11.220793Z",
     "start_time": "2024-03-26T13:11:11.204794Z"
    }
   },
   "id": "da9f1ee74a44ef08",
   "execution_count": 572
  },
  {
   "cell_type": "code",
   "outputs": [],
   "source": [
    "for word in words_to_remove:\n",
    "    df['txt'] = df['txt'].str.replace(word, '')"
   ],
   "metadata": {
    "collapsed": false,
    "ExecuteTime": {
     "end_time": "2024-03-26T13:11:11.314990Z",
     "start_time": "2024-03-26T13:11:11.225836Z"
    }
   },
   "id": "5210a03f5645e4cb",
   "execution_count": 573
  },
  {
   "cell_type": "code",
   "outputs": [],
   "source": [
    "df[\"txt\"] = df['txt'].replace(r'\\(\\s*\\)', '', regex=True)"
   ],
   "metadata": {
    "collapsed": false,
    "ExecuteTime": {
     "end_time": "2024-03-26T13:11:11.394031Z",
     "start_time": "2024-03-26T13:11:11.319991Z"
    }
   },
   "id": "a42b7b4453484d0b",
   "execution_count": 574
  },
  {
   "cell_type": "code",
   "outputs": [],
   "source": [
    "df['txt'] = df['txt'].replace(r'\\s+', ' ', regex=True)\n",
    "df['txt'] = df['txt'].str.strip()\n",
    "\n",
    "df['txt'] = df['txt'].str.lower()"
   ],
   "metadata": {
    "collapsed": false,
    "ExecuteTime": {
     "end_time": "2024-03-26T13:11:11.694828Z",
     "start_time": "2024-03-26T13:11:11.399028Z"
    }
   },
   "id": "4ce089d0d215f5c",
   "execution_count": 575
  },
  {
   "cell_type": "code",
   "outputs": [],
   "source": [
    "def remove_emojis(string):\n",
    "    emoj = re.compile(\"[\"\n",
    "        u\"\\U0001F600-\\U0001F64F\"  # emoticons\n",
    "        u\"\\U0001F300-\\U0001F5FF\"  # symbols & pictographs\n",
    "        u\"\\U0001F680-\\U0001F6FF\"  # transport & map symbols\n",
    "        u\"\\U0001F1E0-\\U0001F1FF\"  # flags (iOS)\n",
    "        u\"\\U00002500-\\U00002BEF\"  # chinese char\n",
    "        u\"\\U00002702-\\U000027B0\"\n",
    "        u\"\\U000024C2-\\U0001F251\"\n",
    "        u\"\\U0001f926-\\U0001f937\"\n",
    "        u\"\\U00010000-\\U0010ffff\"\n",
    "        u\"\\u2640-\\u2642\" \n",
    "        u\"\\u2600-\\u2B55\"\n",
    "        u\"\\u200d\"\n",
    "        u\"\\u23cf\"\n",
    "        u\"\\u23e9\"\n",
    "        u\"\\u231a\"\n",
    "        u\"\\ufe0f\"  # dingbats\n",
    "        u\"\\u3030\"\n",
    "                      \"]+\", re.UNICODE)\n",
    "    return re.sub(emoj, '', string)"
   ],
   "metadata": {
    "collapsed": false,
    "ExecuteTime": {
     "end_time": "2024-03-26T13:11:11.885115Z",
     "start_time": "2024-03-26T13:11:11.864594Z"
    }
   },
   "id": "c7de663a03c30c51",
   "execution_count": 576
  },
  {
   "cell_type": "code",
   "outputs": [],
   "source": [
    "df['txt'] = df['txt'].apply(remove_emojis)"
   ],
   "metadata": {
    "collapsed": false,
    "ExecuteTime": {
     "end_time": "2024-03-26T13:11:12.543498Z",
     "start_time": "2024-03-26T13:11:12.422884Z"
    }
   },
   "id": "49658d26b707ec6b",
   "execution_count": 577
  },
  {
   "cell_type": "code",
   "outputs": [],
   "source": [
    "df['txt'] = df['txt'].str.replace('\"\"', '')"
   ],
   "metadata": {
    "collapsed": false,
    "ExecuteTime": {
     "end_time": "2024-03-26T13:11:13.394460Z",
     "start_time": "2024-03-26T13:11:13.380410Z"
    }
   },
   "id": "a709cec1f2e39c24",
   "execution_count": 578
  },
  {
   "cell_type": "code",
   "outputs": [],
   "source": [
    "df.to_csv(\"../../data/training-data/train-case-2/final-preprocessed-dataset.csv\", index=False)"
   ],
   "metadata": {
    "collapsed": false,
    "ExecuteTime": {
     "end_time": "2024-03-26T13:11:13.645453Z",
     "start_time": "2024-03-26T13:11:13.525844Z"
    }
   },
   "id": "fdbf4945748a0a47",
   "execution_count": 579
  }
 ],
 "metadata": {
  "kernelspec": {
   "display_name": "Python 3",
   "language": "python",
   "name": "python3"
  },
  "language_info": {
   "codemirror_mode": {
    "name": "ipython",
    "version": 2
   },
   "file_extension": ".py",
   "mimetype": "text/x-python",
   "name": "python",
   "nbconvert_exporter": "python",
   "pygments_lexer": "ipython2",
   "version": "2.7.6"
  }
 },
 "nbformat": 4,
 "nbformat_minor": 5
}
