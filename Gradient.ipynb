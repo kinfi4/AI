{
  "nbformat": 4,
  "nbformat_minor": 0,
  "metadata": {
    "colab": {
      "name": "Gradient.ipynb",
      "provenance": [],
      "authorship_tag": "ABX9TyOidyhHv+J3vPwSGoCk+nF3",
      "include_colab_link": true
    },
    "kernelspec": {
      "name": "python3",
      "display_name": "Python 3"
    }
  },
  "cells": [
    {
      "cell_type": "markdown",
      "metadata": {
        "id": "view-in-github",
        "colab_type": "text"
      },
      "source": [
        "<a href=\"https://colab.research.google.com/github/kinfi4/AI/blob/master/Gradient.ipynb\" target=\"_parent\"><img src=\"https://colab.research.google.com/assets/colab-badge.svg\" alt=\"Open In Colab\"/></a>"
      ]
    },
    {
      "cell_type": "markdown",
      "metadata": {
        "id": "rE07xPqhirQg"
      },
      "source": [
        "#Gradient descent for function f(x, y)\n"
      ]
    },
    {
      "cell_type": "code",
      "metadata": {
        "id": "KfwFFCZxe20M"
      },
      "source": [
        "import numpy as np\n",
        "import matplotlib.pyplot as plt\n",
        "from mpl_toolkits import mplot3d\n",
        "\n",
        "fig = plt.figure()\n",
        "ax = plt.axes(projection='3d')\n",
        "\n",
        "\n",
        "def f(x, y):\n",
        "    return np.sin(x)**2 + np.sin(y)**2\n",
        "\n",
        "def df_d(x):\n",
        "    return np.sin(2 * x)\n",
        "\n",
        "\n",
        "def gradient_descend(learning_rate=0.001, num_iter=100):\n",
        "    cur_x, cur_y = 1.5, -1\n",
        "    steps = []\n",
        "\n",
        "    for iter_num in range(num_iter):\n",
        "        steps.append([cur_x, cur_y, f(cur_x, cur_y)])\n",
        "        \n",
        "        grad_x = df_d(cur_x)\n",
        "        grad_y = df_d(cur_y)\n",
        "                 \n",
        "        # после того, как посчитаны производные, можно обновить веса. \n",
        "        # не забудьте про lr!\n",
        "        cur_x -= grad_x\n",
        "        cur_y -= grad_y\n",
        "    return np.array(steps)\n",
        "\n",
        "\n",
        "x = np.linspace(-6, 6, 30)\n",
        "y = np.linspace(-6, 6, 30)\n",
        "\n",
        "X, Y = np.meshgrid(x, y)\n",
        "Z = f(X, Y)\n",
        "\n",
        "ax.contour3D(X, Y, Z, 50, cmap='binary')\n",
        "\n",
        "print(gradient_descend())\n",
        "\n"
      ],
      "execution_count": null,
      "outputs": []
    }
  ]
}