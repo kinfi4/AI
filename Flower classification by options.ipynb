{
 "cells": [
  {
   "cell_type": "markdown",
   "metadata": {},
   "source": [
    "# Flower classification\n",
    "\n",
    "Here i'd like to present u a simple flower classification based on leaf and stem options\n"
   ]
  },
  {
   "cell_type": "code",
   "execution_count": 33,
   "metadata": {},
   "outputs": [],
   "source": [
    "import tensorflow as tf\n",
    "import pandas as pd"
   ]
  },
  {
   "cell_type": "code",
   "execution_count": 2,
   "metadata": {},
   "outputs": [],
   "source": [
    "CSV_COLUMN_NAMES = ['SepalLength', 'SepalWidth', 'PetalLength', 'PetalWidth', 'Species']\n",
    "SPECIES = ['Setosa', 'Versicolor', 'Virginica']"
   ]
  },
  {
   "cell_type": "code",
   "execution_count": 29,
   "metadata": {},
   "outputs": [],
   "source": [
    "dtrain = pd.read_csv(\"https://storage.googleapis.com/download.tensorflow.org/data/iris_training.csv\", names=CSV_COLUMN_NAMES, header=0)\n",
    "dtest = pd.read_csv(\"https://storage.googleapis.com/download.tensorflow.org/data/iris_test.csv\", names=CSV_COLUMN_NAMES, header=0)"
   ]
  },
  {
   "cell_type": "code",
   "execution_count": 22,
   "metadata": {},
   "outputs": [
    {
     "data": {
      "text/html": [
       "<div>\n",
       "<style scoped>\n",
       "    .dataframe tbody tr th:only-of-type {\n",
       "        vertical-align: middle;\n",
       "    }\n",
       "\n",
       "    .dataframe tbody tr th {\n",
       "        vertical-align: top;\n",
       "    }\n",
       "\n",
       "    .dataframe thead th {\n",
       "        text-align: right;\n",
       "    }\n",
       "</style>\n",
       "<table border=\"1\" class=\"dataframe\">\n",
       "  <thead>\n",
       "    <tr style=\"text-align: right;\">\n",
       "      <th></th>\n",
       "      <th>SepalLength</th>\n",
       "      <th>SepalWidth</th>\n",
       "      <th>PetalLength</th>\n",
       "      <th>PetalWidth</th>\n",
       "      <th>Species</th>\n",
       "    </tr>\n",
       "  </thead>\n",
       "  <tbody>\n",
       "    <tr>\n",
       "      <th>0</th>\n",
       "      <td>6.4</td>\n",
       "      <td>2.8</td>\n",
       "      <td>5.6</td>\n",
       "      <td>2.2</td>\n",
       "      <td>2</td>\n",
       "    </tr>\n",
       "    <tr>\n",
       "      <th>1</th>\n",
       "      <td>5.0</td>\n",
       "      <td>2.3</td>\n",
       "      <td>3.3</td>\n",
       "      <td>1.0</td>\n",
       "      <td>1</td>\n",
       "    </tr>\n",
       "    <tr>\n",
       "      <th>2</th>\n",
       "      <td>4.9</td>\n",
       "      <td>2.5</td>\n",
       "      <td>4.5</td>\n",
       "      <td>1.7</td>\n",
       "      <td>2</td>\n",
       "    </tr>\n",
       "    <tr>\n",
       "      <th>3</th>\n",
       "      <td>4.9</td>\n",
       "      <td>3.1</td>\n",
       "      <td>1.5</td>\n",
       "      <td>0.1</td>\n",
       "      <td>0</td>\n",
       "    </tr>\n",
       "    <tr>\n",
       "      <th>4</th>\n",
       "      <td>5.7</td>\n",
       "      <td>3.8</td>\n",
       "      <td>1.7</td>\n",
       "      <td>0.3</td>\n",
       "      <td>0</td>\n",
       "    </tr>\n",
       "  </tbody>\n",
       "</table>\n",
       "</div>"
      ],
      "text/plain": [
       "   SepalLength  SepalWidth  PetalLength  PetalWidth  Species\n",
       "0          6.4         2.8          5.6         2.2        2\n",
       "1          5.0         2.3          3.3         1.0        1\n",
       "2          4.9         2.5          4.5         1.7        2\n",
       "3          4.9         3.1          1.5         0.1        0\n",
       "4          5.7         3.8          1.7         0.3        0"
      ]
     },
     "execution_count": 22,
     "metadata": {},
     "output_type": "execute_result"
    }
   ],
   "source": [
    "dtrain.head()"
   ]
  },
  {
   "cell_type": "code",
   "execution_count": 30,
   "metadata": {},
   "outputs": [],
   "source": [
    "y_train = dtrain.pop('Species')\n",
    "y_test = dtest.pop('Species')"
   ]
  },
  {
   "cell_type": "code",
   "execution_count": 39,
   "metadata": {},
   "outputs": [],
   "source": [
    "def input_function(features, answers, training=True, batch_size=256):\n",
    "    ds = tf.data.Dataset.from_tensor_slices((dict(features), answers))\n",
    "    \n",
    "    if training:\n",
    "        ds = ds.shuffle(1000).repeat()\n",
    "        \n",
    "    return ds.batch(batch_size)    "
   ]
  },
  {
   "cell_type": "code",
   "execution_count": 42,
   "metadata": {
    "scrolled": false
   },
   "outputs": [],
   "source": [
    "feature_cols = []\n",
    "for key in dtrain.keys():\n",
    "    feature_cols.append(tf.feature_column.numeric_column(key=key))"
   ]
  },
  {
   "cell_type": "code",
   "execution_count": 43,
   "metadata": {
    "collapsed": true
   },
   "outputs": [
    {
     "name": "stdout",
     "output_type": "stream",
     "text": [
      "INFO:tensorflow:Using default config.\n",
      "WARNING:tensorflow:Using temporary folder as model directory: /tmp/tmpgxw1n1mt\n",
      "INFO:tensorflow:Using config: {'_model_dir': '/tmp/tmpgxw1n1mt', '_tf_random_seed': None, '_save_summary_steps': 100, '_save_checkpoints_steps': None, '_save_checkpoints_secs': 600, '_session_config': allow_soft_placement: true\n",
      "graph_options {\n",
      "  rewrite_options {\n",
      "    meta_optimizer_iterations: ONE\n",
      "  }\n",
      "}\n",
      ", '_keep_checkpoint_max': 5, '_keep_checkpoint_every_n_hours': 10000, '_log_step_count_steps': 100, '_train_distribute': None, '_device_fn': None, '_protocol': None, '_eval_distribute': None, '_experimental_distribute': None, '_experimental_max_worker_delay_secs': None, '_session_creation_timeout_secs': 7200, '_checkpoint_save_graph_def': True, '_service': None, '_cluster_spec': ClusterSpec({}), '_task_type': 'worker', '_task_id': 0, '_global_id_in_cluster': 0, '_master': '', '_evaluation_master': '', '_is_chief': True, '_num_ps_replicas': 0, '_num_worker_replicas': 1}\n"
     ]
    }
   ],
   "source": [
    "classifier = tf.estimator.DNNClassifier(\n",
    "    feature_columns=feature_cols,\n",
    "    hidden_units=[30, 10],\n",
    "    n_classes=3)"
   ]
  },
  {
   "cell_type": "code",
   "execution_count": 44,
   "metadata": {},
   "outputs": [
    {
     "name": "stdout",
     "output_type": "stream",
     "text": [
      "WARNING:tensorflow:From /home/kini4/anaconda3/lib/python3.8/site-packages/tensorflow/python/training/training_util.py:235: Variable.initialized_value (from tensorflow.python.ops.variables) is deprecated and will be removed in a future version.\n",
      "Instructions for updating:\n",
      "Use Variable.read_value. Variables in 2.X are initialized automatically both in eager and graph (inside tf.defun) contexts.\n",
      "INFO:tensorflow:Calling model_fn.\n",
      "WARNING:tensorflow:From /home/kini4/anaconda3/lib/python3.8/site-packages/tensorflow/python/keras/optimizer_v2/adagrad.py:82: calling Constant.__init__ (from tensorflow.python.ops.init_ops) with dtype is deprecated and will be removed in a future version.\n",
      "Instructions for updating:\n",
      "Call initializer instance with the dtype argument instead of passing it to the constructor\n",
      "INFO:tensorflow:Done calling model_fn.\n",
      "INFO:tensorflow:Create CheckpointSaverHook.\n",
      "INFO:tensorflow:Graph was finalized.\n",
      "INFO:tensorflow:Running local_init_op.\n",
      "INFO:tensorflow:Done running local_init_op.\n",
      "INFO:tensorflow:Calling checkpoint listeners before saving checkpoint 0...\n",
      "INFO:tensorflow:Saving checkpoints for 0 into /tmp/tmpgxw1n1mt/model.ckpt.\n",
      "INFO:tensorflow:Calling checkpoint listeners after saving checkpoint 0...\n",
      "INFO:tensorflow:loss = 1.3370606, step = 0\n",
      "INFO:tensorflow:global_step/sec: 525.736\n",
      "INFO:tensorflow:loss = 1.0634687, step = 100 (0.191 sec)\n",
      "INFO:tensorflow:global_step/sec: 692.2\n",
      "INFO:tensorflow:loss = 0.96238923, step = 200 (0.145 sec)\n",
      "INFO:tensorflow:global_step/sec: 691.658\n",
      "INFO:tensorflow:loss = 0.8954447, step = 300 (0.145 sec)\n",
      "INFO:tensorflow:global_step/sec: 696.737\n",
      "INFO:tensorflow:loss = 0.8357388, step = 400 (0.144 sec)\n",
      "INFO:tensorflow:global_step/sec: 535.272\n",
      "INFO:tensorflow:loss = 0.786506, step = 500 (0.187 sec)\n",
      "INFO:tensorflow:global_step/sec: 657.556\n",
      "INFO:tensorflow:loss = 0.74952984, step = 600 (0.152 sec)\n",
      "INFO:tensorflow:global_step/sec: 702.636\n",
      "INFO:tensorflow:loss = 0.71922207, step = 700 (0.142 sec)\n",
      "INFO:tensorflow:global_step/sec: 648.637\n",
      "INFO:tensorflow:loss = 0.6894146, step = 800 (0.154 sec)\n",
      "INFO:tensorflow:global_step/sec: 669.707\n",
      "INFO:tensorflow:loss = 0.6675738, step = 900 (0.149 sec)\n",
      "INFO:tensorflow:global_step/sec: 673.7\n",
      "INFO:tensorflow:loss = 0.6316512, step = 1000 (0.148 sec)\n",
      "INFO:tensorflow:global_step/sec: 579.405\n",
      "INFO:tensorflow:loss = 0.6186427, step = 1100 (0.175 sec)\n",
      "INFO:tensorflow:global_step/sec: 623.051\n",
      "INFO:tensorflow:loss = 0.6041477, step = 1200 (0.159 sec)\n",
      "INFO:tensorflow:global_step/sec: 702.226\n",
      "INFO:tensorflow:loss = 0.59214354, step = 1300 (0.143 sec)\n",
      "INFO:tensorflow:global_step/sec: 652.474\n",
      "INFO:tensorflow:loss = 0.5833565, step = 1400 (0.153 sec)\n",
      "INFO:tensorflow:global_step/sec: 677.325\n",
      "INFO:tensorflow:loss = 0.5590093, step = 1500 (0.149 sec)\n",
      "INFO:tensorflow:global_step/sec: 765.225\n",
      "INFO:tensorflow:loss = 0.55408955, step = 1600 (0.130 sec)\n",
      "INFO:tensorflow:global_step/sec: 690.416\n",
      "INFO:tensorflow:loss = 0.5303515, step = 1700 (0.144 sec)\n",
      "INFO:tensorflow:global_step/sec: 626.967\n",
      "INFO:tensorflow:loss = 0.5294188, step = 1800 (0.160 sec)\n",
      "INFO:tensorflow:global_step/sec: 467.047\n",
      "INFO:tensorflow:loss = 0.5139889, step = 1900 (0.215 sec)\n",
      "INFO:tensorflow:global_step/sec: 624.698\n",
      "INFO:tensorflow:loss = 0.4918506, step = 2000 (0.160 sec)\n",
      "INFO:tensorflow:global_step/sec: 614.786\n",
      "INFO:tensorflow:loss = 0.4982361, step = 2100 (0.163 sec)\n",
      "INFO:tensorflow:global_step/sec: 687.992\n",
      "INFO:tensorflow:loss = 0.4753847, step = 2200 (0.146 sec)\n",
      "INFO:tensorflow:global_step/sec: 606.47\n",
      "INFO:tensorflow:loss = 0.47834742, step = 2300 (0.164 sec)\n",
      "INFO:tensorflow:global_step/sec: 583.583\n",
      "INFO:tensorflow:loss = 0.47995964, step = 2400 (0.171 sec)\n",
      "INFO:tensorflow:global_step/sec: 745.524\n",
      "INFO:tensorflow:loss = 0.46987426, step = 2500 (0.134 sec)\n",
      "INFO:tensorflow:global_step/sec: 666.772\n",
      "INFO:tensorflow:loss = 0.4445057, step = 2600 (0.150 sec)\n",
      "INFO:tensorflow:global_step/sec: 678.97\n",
      "INFO:tensorflow:loss = 0.45292848, step = 2700 (0.148 sec)\n",
      "INFO:tensorflow:global_step/sec: 660.431\n",
      "INFO:tensorflow:loss = 0.45340902, step = 2800 (0.152 sec)\n",
      "INFO:tensorflow:global_step/sec: 585.348\n",
      "INFO:tensorflow:loss = 0.44504973, step = 2900 (0.170 sec)\n",
      "INFO:tensorflow:global_step/sec: 653.351\n",
      "INFO:tensorflow:loss = 0.44025904, step = 3000 (0.153 sec)\n",
      "INFO:tensorflow:global_step/sec: 677.649\n",
      "INFO:tensorflow:loss = 0.4201421, step = 3100 (0.148 sec)\n",
      "INFO:tensorflow:global_step/sec: 615.192\n",
      "INFO:tensorflow:loss = 0.42927834, step = 3200 (0.162 sec)\n",
      "INFO:tensorflow:global_step/sec: 515.584\n",
      "INFO:tensorflow:loss = 0.4214171, step = 3300 (0.196 sec)\n",
      "INFO:tensorflow:global_step/sec: 666.038\n",
      "INFO:tensorflow:loss = 0.41232508, step = 3400 (0.148 sec)\n",
      "INFO:tensorflow:global_step/sec: 619.366\n",
      "INFO:tensorflow:loss = 0.4082269, step = 3500 (0.161 sec)\n",
      "INFO:tensorflow:global_step/sec: 600.658\n",
      "INFO:tensorflow:loss = 0.41010112, step = 3600 (0.167 sec)\n",
      "INFO:tensorflow:global_step/sec: 645.198\n",
      "INFO:tensorflow:loss = 0.39368683, step = 3700 (0.155 sec)\n",
      "INFO:tensorflow:global_step/sec: 542.641\n",
      "INFO:tensorflow:loss = 0.39457303, step = 3800 (0.184 sec)\n",
      "INFO:tensorflow:global_step/sec: 655.92\n",
      "INFO:tensorflow:loss = 0.3939638, step = 3900 (0.153 sec)\n",
      "INFO:tensorflow:global_step/sec: 658.709\n",
      "INFO:tensorflow:loss = 0.3877806, step = 4000 (0.152 sec)\n",
      "INFO:tensorflow:global_step/sec: 592.003\n",
      "INFO:tensorflow:loss = 0.3802979, step = 4100 (0.169 sec)\n",
      "INFO:tensorflow:global_step/sec: 570.009\n",
      "INFO:tensorflow:loss = 0.37956578, step = 4200 (0.175 sec)\n",
      "INFO:tensorflow:global_step/sec: 684.85\n",
      "INFO:tensorflow:loss = 0.37348855, step = 4300 (0.146 sec)\n",
      "INFO:tensorflow:global_step/sec: 636.42\n",
      "INFO:tensorflow:loss = 0.37677082, step = 4400 (0.157 sec)\n",
      "INFO:tensorflow:global_step/sec: 696.897\n",
      "INFO:tensorflow:loss = 0.37106496, step = 4500 (0.143 sec)\n",
      "INFO:tensorflow:global_step/sec: 674.411\n",
      "INFO:tensorflow:loss = 0.3795604, step = 4600 (0.148 sec)\n",
      "INFO:tensorflow:global_step/sec: 649.418\n",
      "INFO:tensorflow:loss = 0.3631413, step = 4700 (0.154 sec)\n",
      "INFO:tensorflow:global_step/sec: 667.722\n",
      "INFO:tensorflow:loss = 0.35524485, step = 4800 (0.150 sec)\n",
      "INFO:tensorflow:global_step/sec: 512.517\n",
      "INFO:tensorflow:loss = 0.34783983, step = 4900 (0.195 sec)\n",
      "INFO:tensorflow:Calling checkpoint listeners before saving checkpoint 5000...\n",
      "INFO:tensorflow:Saving checkpoints for 5000 into /tmp/tmpgxw1n1mt/model.ckpt.\n",
      "INFO:tensorflow:Calling checkpoint listeners after saving checkpoint 5000...\n",
      "INFO:tensorflow:Loss for final step: 0.35371184.\n"
     ]
    },
    {
     "data": {
      "text/plain": [
       "<tensorflow_estimator.python.estimator.canned.dnn.DNNClassifierV2 at 0x7ff514058ee0>"
      ]
     },
     "execution_count": 44,
     "metadata": {},
     "output_type": "execute_result"
    }
   ],
   "source": [
    "classifier.train(\n",
    "    lambda: input_function(dtrain, y_train),\n",
    "    steps=5000)"
   ]
  },
  {
   "cell_type": "code",
   "execution_count": 45,
   "metadata": {},
   "outputs": [
    {
     "name": "stdout",
     "output_type": "stream",
     "text": [
      "INFO:tensorflow:Calling model_fn.\n",
      "INFO:tensorflow:Done calling model_fn.\n",
      "INFO:tensorflow:Starting evaluation at 2021-01-08T18:28:45Z\n",
      "INFO:tensorflow:Graph was finalized.\n",
      "INFO:tensorflow:Restoring parameters from /tmp/tmpgxw1n1mt/model.ckpt-5000\n",
      "INFO:tensorflow:Running local_init_op.\n",
      "INFO:tensorflow:Done running local_init_op.\n",
      "INFO:tensorflow:Inference Time : 0.62784s\n",
      "INFO:tensorflow:Finished evaluation at 2021-01-08-18:28:45\n",
      "INFO:tensorflow:Saving dict for global step 5000: accuracy = 0.96666664, average_loss = 0.4103121, global_step = 5000, loss = 0.4103121\n",
      "INFO:tensorflow:Saving 'checkpoint_path' summary for global step 5000: /tmp/tmpgxw1n1mt/model.ckpt-5000\n"
     ]
    }
   ],
   "source": [
    "result = classifier.evaluate(lambda: input_function(dtest, y_test, training=False))"
   ]
  },
  {
   "cell_type": "code",
   "execution_count": 50,
   "metadata": {},
   "outputs": [
    {
     "data": {
      "text/plain": [
       "0.96666664"
      ]
     },
     "execution_count": 50,
     "metadata": {},
     "output_type": "execute_result"
    }
   ],
   "source": [
    "result['accuracy']"
   ]
  },
  {
   "cell_type": "markdown",
   "metadata": {},
   "source": [
    "# Playing with out model\n",
    "\n",
    "Here i've written some code so that i can predict the flower class based on input parameters"
   ]
  },
  {
   "cell_type": "code",
   "execution_count": 52,
   "metadata": {},
   "outputs": [],
   "source": [
    "def input_f(data, batch_size=256):\n",
    "    return tf.data.Dataset.from_tensor_slices(dict(data)).batch(batch_size=batch_size)\n",
    "\n",
    "features = ['SepalLength', 'SepalWidth', 'PetalLength', 'PetalWidth']\n",
    "predict = {}"
   ]
  },
  {
   "cell_type": "code",
   "execution_count": 78,
   "metadata": {
    "scrolled": true
   },
   "outputs": [
    {
     "name": "stdout",
     "output_type": "stream",
     "text": [
      "Please type numeric values as prompted\n",
      "SepalLength: 21\n",
      "SepalWidth: 21\n",
      "PetalLength: 21\n",
      "PetalWidth: 21\n",
      "INFO:tensorflow:Calling model_fn.\n",
      "INFO:tensorflow:Done calling model_fn.\n",
      "INFO:tensorflow:Graph was finalized.\n",
      "INFO:tensorflow:Restoring parameters from /tmp/tmpgxw1n1mt/model.ckpt-5000\n",
      "INFO:tensorflow:Running local_init_op.\n",
      "INFO:tensorflow:Done running local_init_op.\n",
      "Prediction is \"Virginica\" (99.6%)\n"
     ]
    }
   ],
   "source": [
    "print(\"Please type numeric values as prompted\")\n",
    "for feature in features:\n",
    "    val = input(feature + \": \")\n",
    "    predict[feature] = [float(val)]\n",
    "    \n",
    "predictions = classifier.predict(lambda: input_f(predict))\n",
    "\n",
    "for pred_dict in predictions:\n",
    "    class_id = pred_dict['class_ids'][0]\n",
    "    probability = pred_dict['probabilities'][class_id]\n",
    "\n",
    "    print('Prediction is \"{}\" ({:.1f}%)'.format(\n",
    "        SPECIES[class_id], 100 * probability))"
   ]
  }
 ],
 "metadata": {
  "kernelspec": {
   "display_name": "Python 3",
   "language": "python",
   "name": "python3"
  },
  "language_info": {
   "codemirror_mode": {
    "name": "ipython",
    "version": 3
   },
   "file_extension": ".py",
   "mimetype": "text/x-python",
   "name": "python",
   "nbconvert_exporter": "python",
   "pygments_lexer": "ipython3",
   "version": "3.8.5"
  }
 },
 "nbformat": 4,
 "nbformat_minor": 4
}
